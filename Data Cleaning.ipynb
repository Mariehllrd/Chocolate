{
 "cells": [
  {
   "cell_type": "markdown",
   "metadata": {},
   "source": [
    "### Importing librairies"
   ]
  },
  {
   "cell_type": "code",
   "execution_count": 1,
   "metadata": {},
   "outputs": [],
   "source": [
    "import numpy as np\n",
    "import pandas as pd\n",
    "import re"
   ]
  },
  {
   "cell_type": "markdown",
   "metadata": {},
   "source": [
    "### Importing dataset"
   ]
  },
  {
   "cell_type": "code",
   "execution_count": 2,
   "metadata": {},
   "outputs": [],
   "source": [
    "chocolate = pd.read_csv('./data/flavors_of_cacao.csv')"
   ]
  },
  {
   "cell_type": "code",
   "execution_count": 3,
   "metadata": {},
   "outputs": [
    {
     "data": {
      "text/html": [
       "<div>\n",
       "<style scoped>\n",
       "    .dataframe tbody tr th:only-of-type {\n",
       "        vertical-align: middle;\n",
       "    }\n",
       "\n",
       "    .dataframe tbody tr th {\n",
       "        vertical-align: top;\n",
       "    }\n",
       "\n",
       "    .dataframe thead th {\n",
       "        text-align: right;\n",
       "    }\n",
       "</style>\n",
       "<table border=\"1\" class=\"dataframe\">\n",
       "  <thead>\n",
       "    <tr style=\"text-align: right;\">\n",
       "      <th></th>\n",
       "      <th>Company \\n(Maker-if known)</th>\n",
       "      <th>Specific Bean Origin\\nor Bar Name</th>\n",
       "      <th>REF</th>\n",
       "      <th>Review\\nDate</th>\n",
       "      <th>Cocoa\\nPercent</th>\n",
       "      <th>Company\\nLocation</th>\n",
       "      <th>Rating</th>\n",
       "      <th>Bean\\nType</th>\n",
       "      <th>Broad Bean\\nOrigin</th>\n",
       "    </tr>\n",
       "  </thead>\n",
       "  <tbody>\n",
       "    <tr>\n",
       "      <td>0</td>\n",
       "      <td>A. Morin</td>\n",
       "      <td>Agua Grande</td>\n",
       "      <td>1876</td>\n",
       "      <td>2016</td>\n",
       "      <td>63%</td>\n",
       "      <td>France</td>\n",
       "      <td>3.75</td>\n",
       "      <td></td>\n",
       "      <td>Sao Tome</td>\n",
       "    </tr>\n",
       "    <tr>\n",
       "      <td>1</td>\n",
       "      <td>A. Morin</td>\n",
       "      <td>Kpime</td>\n",
       "      <td>1676</td>\n",
       "      <td>2015</td>\n",
       "      <td>70%</td>\n",
       "      <td>France</td>\n",
       "      <td>2.75</td>\n",
       "      <td></td>\n",
       "      <td>Togo</td>\n",
       "    </tr>\n",
       "    <tr>\n",
       "      <td>2</td>\n",
       "      <td>A. Morin</td>\n",
       "      <td>Atsane</td>\n",
       "      <td>1676</td>\n",
       "      <td>2015</td>\n",
       "      <td>70%</td>\n",
       "      <td>France</td>\n",
       "      <td>3.00</td>\n",
       "      <td></td>\n",
       "      <td>Togo</td>\n",
       "    </tr>\n",
       "    <tr>\n",
       "      <td>3</td>\n",
       "      <td>A. Morin</td>\n",
       "      <td>Akata</td>\n",
       "      <td>1680</td>\n",
       "      <td>2015</td>\n",
       "      <td>70%</td>\n",
       "      <td>France</td>\n",
       "      <td>3.50</td>\n",
       "      <td></td>\n",
       "      <td>Togo</td>\n",
       "    </tr>\n",
       "    <tr>\n",
       "      <td>4</td>\n",
       "      <td>A. Morin</td>\n",
       "      <td>Quilla</td>\n",
       "      <td>1704</td>\n",
       "      <td>2015</td>\n",
       "      <td>70%</td>\n",
       "      <td>France</td>\n",
       "      <td>3.50</td>\n",
       "      <td></td>\n",
       "      <td>Peru</td>\n",
       "    </tr>\n",
       "  </tbody>\n",
       "</table>\n",
       "</div>"
      ],
      "text/plain": [
       "  Company \\n(Maker-if known) Specific Bean Origin\\nor Bar Name   REF  \\\n",
       "0                   A. Morin                       Agua Grande  1876   \n",
       "1                   A. Morin                             Kpime  1676   \n",
       "2                   A. Morin                            Atsane  1676   \n",
       "3                   A. Morin                             Akata  1680   \n",
       "4                   A. Morin                            Quilla  1704   \n",
       "\n",
       "   Review\\nDate Cocoa\\nPercent Company\\nLocation  Rating Bean\\nType  \\\n",
       "0          2016            63%            France    3.75              \n",
       "1          2015            70%            France    2.75              \n",
       "2          2015            70%            France    3.00              \n",
       "3          2015            70%            France    3.50              \n",
       "4          2015            70%            France    3.50              \n",
       "\n",
       "  Broad Bean\\nOrigin  \n",
       "0           Sao Tome  \n",
       "1               Togo  \n",
       "2               Togo  \n",
       "3               Togo  \n",
       "4               Peru  "
      ]
     },
     "execution_count": 3,
     "metadata": {},
     "output_type": "execute_result"
    }
   ],
   "source": [
    "# Printing head of dataset\n",
    "chocolate.head()"
   ]
  },
  {
   "cell_type": "code",
   "execution_count": 4,
   "metadata": {},
   "outputs": [
    {
     "data": {
      "text/plain": [
       "(1795, 9)"
      ]
     },
     "execution_count": 4,
     "metadata": {},
     "output_type": "execute_result"
    }
   ],
   "source": [
    "# Printing shape\n",
    "chocolate.shape"
   ]
  },
  {
   "cell_type": "code",
   "execution_count": 5,
   "metadata": {},
   "outputs": [
    {
     "data": {
      "text/plain": [
       "Index(['Company \\n(Maker-if known)', 'Specific Bean Origin\\nor Bar Name',\n",
       "       'REF', 'Review\\nDate', 'Cocoa\\nPercent', 'Company\\nLocation', 'Rating',\n",
       "       'Bean\\nType', 'Broad Bean\\nOrigin'],\n",
       "      dtype='object')"
      ]
     },
     "execution_count": 5,
     "metadata": {},
     "output_type": "execute_result"
    }
   ],
   "source": [
    "# Printing column names\n",
    "chocolate.columns"
   ]
  },
  {
   "cell_type": "code",
   "execution_count": 6,
   "metadata": {},
   "outputs": [
    {
     "data": {
      "text/plain": [
       "Company \\n(Maker-if known)            object\n",
       "Specific Bean Origin\\nor Bar Name     object\n",
       "REF                                    int64\n",
       "Review\\nDate                           int64\n",
       "Cocoa\\nPercent                        object\n",
       "Company\\nLocation                     object\n",
       "Rating                               float64\n",
       "Bean\\nType                            object\n",
       "Broad Bean\\nOrigin                    object\n",
       "dtype: object"
      ]
     },
     "execution_count": 6,
     "metadata": {},
     "output_type": "execute_result"
    }
   ],
   "source": [
    "# Printing types\n",
    "chocolate.dtypes"
   ]
  },
  {
   "cell_type": "code",
   "execution_count": 7,
   "metadata": {
    "scrolled": true
   },
   "outputs": [
    {
     "data": {
      "text/plain": [
       "Company \\n(Maker-if known)           0\n",
       "Specific Bean Origin\\nor Bar Name    0\n",
       "REF                                  0\n",
       "Review\\nDate                         0\n",
       "Cocoa\\nPercent                       0\n",
       "Company\\nLocation                    0\n",
       "Rating                               0\n",
       "Bean\\nType                           1\n",
       "Broad Bean\\nOrigin                   1\n",
       "dtype: int64"
      ]
     },
     "execution_count": 7,
     "metadata": {},
     "output_type": "execute_result"
    }
   ],
   "source": [
    "# Looking for missing values\n",
    "chocolate.isnull().sum()"
   ]
  },
  {
   "cell_type": "markdown",
   "metadata": {},
   "source": [
    "#### First insights:\n",
    "- Column names need to be cleaned\n",
    "- 6 object and 3 numerical columns\n",
    "- Only 2 missing values"
   ]
  },
  {
   "cell_type": "markdown",
   "metadata": {},
   "source": [
    "### Cleaning"
   ]
  },
  {
   "cell_type": "code",
   "execution_count": 8,
   "metadata": {},
   "outputs": [
    {
     "data": {
      "text/html": [
       "<div>\n",
       "<style scoped>\n",
       "    .dataframe tbody tr th:only-of-type {\n",
       "        vertical-align: middle;\n",
       "    }\n",
       "\n",
       "    .dataframe tbody tr th {\n",
       "        vertical-align: top;\n",
       "    }\n",
       "\n",
       "    .dataframe thead th {\n",
       "        text-align: right;\n",
       "    }\n",
       "</style>\n",
       "<table border=\"1\" class=\"dataframe\">\n",
       "  <thead>\n",
       "    <tr style=\"text-align: right;\">\n",
       "      <th></th>\n",
       "      <th>Company</th>\n",
       "      <th>Origin</th>\n",
       "      <th>REF</th>\n",
       "      <th>ReviewDate</th>\n",
       "      <th>CocoaPercent</th>\n",
       "      <th>CompanyLocation</th>\n",
       "      <th>Rating</th>\n",
       "      <th>BeanType</th>\n",
       "      <th>Country</th>\n",
       "    </tr>\n",
       "  </thead>\n",
       "  <tbody>\n",
       "    <tr>\n",
       "      <td>0</td>\n",
       "      <td>A. Morin</td>\n",
       "      <td>Agua Grande</td>\n",
       "      <td>1876</td>\n",
       "      <td>2016</td>\n",
       "      <td>63%</td>\n",
       "      <td>France</td>\n",
       "      <td>3.75</td>\n",
       "      <td></td>\n",
       "      <td>Sao Tome</td>\n",
       "    </tr>\n",
       "    <tr>\n",
       "      <td>1</td>\n",
       "      <td>A. Morin</td>\n",
       "      <td>Kpime</td>\n",
       "      <td>1676</td>\n",
       "      <td>2015</td>\n",
       "      <td>70%</td>\n",
       "      <td>France</td>\n",
       "      <td>2.75</td>\n",
       "      <td></td>\n",
       "      <td>Togo</td>\n",
       "    </tr>\n",
       "    <tr>\n",
       "      <td>2</td>\n",
       "      <td>A. Morin</td>\n",
       "      <td>Atsane</td>\n",
       "      <td>1676</td>\n",
       "      <td>2015</td>\n",
       "      <td>70%</td>\n",
       "      <td>France</td>\n",
       "      <td>3.00</td>\n",
       "      <td></td>\n",
       "      <td>Togo</td>\n",
       "    </tr>\n",
       "    <tr>\n",
       "      <td>3</td>\n",
       "      <td>A. Morin</td>\n",
       "      <td>Akata</td>\n",
       "      <td>1680</td>\n",
       "      <td>2015</td>\n",
       "      <td>70%</td>\n",
       "      <td>France</td>\n",
       "      <td>3.50</td>\n",
       "      <td></td>\n",
       "      <td>Togo</td>\n",
       "    </tr>\n",
       "    <tr>\n",
       "      <td>4</td>\n",
       "      <td>A. Morin</td>\n",
       "      <td>Quilla</td>\n",
       "      <td>1704</td>\n",
       "      <td>2015</td>\n",
       "      <td>70%</td>\n",
       "      <td>France</td>\n",
       "      <td>3.50</td>\n",
       "      <td></td>\n",
       "      <td>Peru</td>\n",
       "    </tr>\n",
       "  </tbody>\n",
       "</table>\n",
       "</div>"
      ],
      "text/plain": [
       "    Company       Origin   REF  ReviewDate CocoaPercent CompanyLocation  \\\n",
       "0  A. Morin  Agua Grande  1876        2016          63%          France   \n",
       "1  A. Morin        Kpime  1676        2015          70%          France   \n",
       "2  A. Morin       Atsane  1676        2015          70%          France   \n",
       "3  A. Morin        Akata  1680        2015          70%          France   \n",
       "4  A. Morin       Quilla  1704        2015          70%          France   \n",
       "\n",
       "   Rating BeanType   Country  \n",
       "0    3.75           Sao Tome  \n",
       "1    2.75               Togo  \n",
       "2    3.00               Togo  \n",
       "3    3.50               Togo  \n",
       "4    3.50               Peru  "
      ]
     },
     "execution_count": 8,
     "metadata": {},
     "output_type": "execute_result"
    }
   ],
   "source": [
    "# Cleaning column names\n",
    "\n",
    "original_col = chocolate.columns\n",
    "new_cols = ['Company', 'Origin', 'REF', 'ReviewDate', 'CocoaPercent','CompanyLocation', 'Rating', 'BeanType', 'Country']\n",
    "chocolate = chocolate.rename(columns = dict(zip(original_col, new_cols)))\n",
    "chocolate.head()"
   ]
  },
  {
   "cell_type": "code",
   "execution_count": 9,
   "metadata": {
    "scrolled": true
   },
   "outputs": [
    {
     "data": {
      "text/html": [
       "<div>\n",
       "<style scoped>\n",
       "    .dataframe tbody tr th:only-of-type {\n",
       "        vertical-align: middle;\n",
       "    }\n",
       "\n",
       "    .dataframe tbody tr th {\n",
       "        vertical-align: top;\n",
       "    }\n",
       "\n",
       "    .dataframe thead th {\n",
       "        text-align: right;\n",
       "    }\n",
       "</style>\n",
       "<table border=\"1\" class=\"dataframe\">\n",
       "  <thead>\n",
       "    <tr style=\"text-align: right;\">\n",
       "      <th></th>\n",
       "      <th>Company</th>\n",
       "      <th>Origin</th>\n",
       "      <th>REF</th>\n",
       "      <th>ReviewDate</th>\n",
       "      <th>CocoaPercent</th>\n",
       "      <th>CompanyLocation</th>\n",
       "      <th>Rating</th>\n",
       "      <th>BeanType</th>\n",
       "      <th>Country</th>\n",
       "    </tr>\n",
       "  </thead>\n",
       "  <tbody>\n",
       "    <tr>\n",
       "      <td>0</td>\n",
       "      <td>A. Morin</td>\n",
       "      <td>Agua Grande</td>\n",
       "      <td>1876</td>\n",
       "      <td>2016</td>\n",
       "      <td>63.0</td>\n",
       "      <td>France</td>\n",
       "      <td>3.75</td>\n",
       "      <td></td>\n",
       "      <td>Sao Tome</td>\n",
       "    </tr>\n",
       "    <tr>\n",
       "      <td>1</td>\n",
       "      <td>A. Morin</td>\n",
       "      <td>Kpime</td>\n",
       "      <td>1676</td>\n",
       "      <td>2015</td>\n",
       "      <td>70.0</td>\n",
       "      <td>France</td>\n",
       "      <td>2.75</td>\n",
       "      <td></td>\n",
       "      <td>Togo</td>\n",
       "    </tr>\n",
       "    <tr>\n",
       "      <td>2</td>\n",
       "      <td>A. Morin</td>\n",
       "      <td>Atsane</td>\n",
       "      <td>1676</td>\n",
       "      <td>2015</td>\n",
       "      <td>70.0</td>\n",
       "      <td>France</td>\n",
       "      <td>3.00</td>\n",
       "      <td></td>\n",
       "      <td>Togo</td>\n",
       "    </tr>\n",
       "    <tr>\n",
       "      <td>3</td>\n",
       "      <td>A. Morin</td>\n",
       "      <td>Akata</td>\n",
       "      <td>1680</td>\n",
       "      <td>2015</td>\n",
       "      <td>70.0</td>\n",
       "      <td>France</td>\n",
       "      <td>3.50</td>\n",
       "      <td></td>\n",
       "      <td>Togo</td>\n",
       "    </tr>\n",
       "    <tr>\n",
       "      <td>4</td>\n",
       "      <td>A. Morin</td>\n",
       "      <td>Quilla</td>\n",
       "      <td>1704</td>\n",
       "      <td>2015</td>\n",
       "      <td>70.0</td>\n",
       "      <td>France</td>\n",
       "      <td>3.50</td>\n",
       "      <td></td>\n",
       "      <td>Peru</td>\n",
       "    </tr>\n",
       "  </tbody>\n",
       "</table>\n",
       "</div>"
      ],
      "text/plain": [
       "    Company       Origin   REF  ReviewDate  CocoaPercent CompanyLocation  \\\n",
       "0  A. Morin  Agua Grande  1876        2016          63.0          France   \n",
       "1  A. Morin        Kpime  1676        2015          70.0          France   \n",
       "2  A. Morin       Atsane  1676        2015          70.0          France   \n",
       "3  A. Morin        Akata  1680        2015          70.0          France   \n",
       "4  A. Morin       Quilla  1704        2015          70.0          France   \n",
       "\n",
       "   Rating BeanType   Country  \n",
       "0    3.75           Sao Tome  \n",
       "1    2.75               Togo  \n",
       "2    3.00               Togo  \n",
       "3    3.50               Togo  \n",
       "4    3.50               Peru  "
      ]
     },
     "execution_count": 9,
     "metadata": {},
     "output_type": "execute_result"
    }
   ],
   "source": [
    "# Remove % sign from CocoaPercent column \n",
    "\n",
    "chocolate['CocoaPercent'] = chocolate['CocoaPercent'].str.replace('%','').astype(float)\n",
    "chocolate.head()"
   ]
  },
  {
   "cell_type": "code",
   "execution_count": 10,
   "metadata": {},
   "outputs": [
    {
     "data": {
      "text/plain": [
       "array(['Africa, Carribean, C. Am.', 'Australia', 'Belize', 'Bolivia',\n",
       "       'Brazil', 'Burma', 'Cameroon', 'Carribean',\n",
       "       'Carribean(DR/Jam/Tri)', 'Central and S. America', 'Colombia',\n",
       "       'Colombia, Ecuador', 'Congo', 'Cost Rica, Ven', 'Costa Rica',\n",
       "       'Cuba', 'DR, Ecuador, Peru', 'Dom. Rep., Madagascar',\n",
       "       'Domincan Republic', 'Dominican Rep., Bali', 'Dominican Republic',\n",
       "       'Ecuador', 'Ecuador, Costa Rica', 'Ecuador, Mad., PNG',\n",
       "       'El Salvador', 'Fiji', 'Gabon', 'Ghana', 'Ghana & Madagascar',\n",
       "       'Ghana, Domin. Rep', 'Ghana, Panama, Ecuador',\n",
       "       'Gre., PNG, Haw., Haiti, Mad', 'Grenada',\n",
       "       'Guat., D.R., Peru, Mad., PNG', 'Guatemala', 'Haiti', 'Hawaii',\n",
       "       'Honduras', 'India', 'Indonesia', 'Indonesia, Ghana',\n",
       "       'Ivory Coast', 'Jamaica', 'Liberia', 'Mad., Java, PNG',\n",
       "       'Madagascar', 'Madagascar & Ecuador', 'Malaysia', 'Martinique',\n",
       "       'Mexico', 'Nicaragua', 'Nigeria', 'PNG, Vanuatu, Mad', 'Panama',\n",
       "       'Papua New Guinea', 'Peru', 'Peru(SMartin,Pangoa,nacional)',\n",
       "       'Peru, Belize', 'Peru, Dom. Rep', 'Peru, Ecuador',\n",
       "       'Peru, Ecuador, Venezuela', 'Peru, Mad., Dom. Rep.',\n",
       "       'Peru, Madagascar', 'Philippines', 'Principe', 'Puerto Rico',\n",
       "       'Samoa', 'Sao Tome', 'Sao Tome & Principe', 'Solomon Islands',\n",
       "       'South America', 'South America, Africa', 'Sri Lanka', 'St. Lucia',\n",
       "       'Suriname', 'Tanzania', 'Tobago', 'Togo', 'Trinidad',\n",
       "       'Trinidad, Ecuador', 'Trinidad, Tobago', 'Trinidad-Tobago',\n",
       "       'Uganda', 'Vanuatu', 'Ven, Bolivia, D.R.',\n",
       "       'Ven, Trinidad, Ecuador', 'Ven., Indonesia, Ecuad.',\n",
       "       'Ven., Trinidad, Mad.', 'Ven.,Ecu.,Peru,Nic.',\n",
       "       'Venez,Africa,Brasil,Peru,Mex', 'Venezuela',\n",
       "       'Venezuela, Carribean', 'Venezuela, Dom. Rep.', 'Venezuela, Ghana',\n",
       "       'Venezuela, Java', 'Venezuela, Trinidad', 'Venezuela/ Ghana',\n",
       "       'Vietnam', 'West Africa', '\\xa0', nan], dtype=object)"
      ]
     },
     "execution_count": 10,
     "metadata": {},
     "output_type": "execute_result"
    }
   ],
   "source": [
    "## Country column\n",
    "chocolate['Country'].sort_values().unique()"
   ]
  },
  {
   "cell_type": "code",
   "execution_count": 11,
   "metadata": {},
   "outputs": [],
   "source": [
    "# Removing special characters\n",
    "chocolate['Country'] = chocolate['Country'].str.replace('-', ', ')\\\n",
    ".str.replace('/ ', ', ')\\\n",
    ".str.replace('/', ', ')\\\n",
    ".str.replace('\\(', ', ')\\\n",
    ".str.replace(' and', ', ')\\\n",
    ".str.replace(' &', ', ')\\\n",
    ".str.replace('\\)', '')\\\n",
    ".str.replace(' &', ', ')\\\n",
    ".str.replace(', $', '')\\\n",
    ".str.replace(',  ', ', ')\\\n",
    ".str.replace(', ,', ', ')\\\n",
    ".str.replace(',\\s+', ', ')\\\n",
    ".str.replace(',', ', ').str.strip()"
   ]
  },
  {
   "cell_type": "code",
   "execution_count": 12,
   "metadata": {
    "scrolled": true
   },
   "outputs": [
    {
     "data": {
      "text/plain": [
       "array(['', 'Africa,  Carribean,  C. Am.', 'Australia', 'Belize',\n",
       "       'Bolivia', 'Brazil', 'Burma', 'Cameroon', 'Carribean',\n",
       "       'Carribean,  DR,  Jam,  Tri', 'Central,  S. America', 'Colombia',\n",
       "       'Colombia,  Ecuador', 'Congo', 'Cost Rica,  Ven', 'Costa Rica',\n",
       "       'Cuba', 'DR,  Ecuador,  Peru', 'Dom. Rep.,  Madagascar',\n",
       "       'Domincan Republic', 'Dominican Rep.,  Bali', 'Dominican Republic',\n",
       "       'Ecuador', 'Ecuador,  Costa Rica', 'Ecuador,  Mad.,  PNG',\n",
       "       'El Salvador', 'Fiji', 'Gabon', 'Ghana', 'Ghana,  Domin. Rep',\n",
       "       'Ghana,  Madagascar', 'Ghana,  Panama,  Ecuador',\n",
       "       'Gre.,  PNG,  Haw.,  Haiti,  Mad', 'Grenada',\n",
       "       'Guat.,  D.R.,  Peru,  Mad.,  PNG', 'Guatemala', 'Haiti', 'Hawaii',\n",
       "       'Honduras', 'India', 'Indonesia', 'Indonesia,  Ghana',\n",
       "       'Ivory Coast', 'Jamaica', 'Liberia', 'Mad.,  Java,  PNG',\n",
       "       'Madagascar', 'Madagascar,  Ecuador', 'Malaysia', 'Martinique',\n",
       "       'Mexico', 'Nicaragua', 'Nigeria', 'PNG,  Vanuatu,  Mad', 'Panama',\n",
       "       'Papua New Guinea', 'Peru', 'Peru,  Belize', 'Peru,  Dom. Rep',\n",
       "       'Peru,  Ecuador', 'Peru,  Ecuador,  Venezuela',\n",
       "       'Peru,  Mad.,  Dom. Rep.', 'Peru,  Madagascar',\n",
       "       'Peru,  SMartin, Pangoa, nacional', 'Philippines', 'Principe',\n",
       "       'Puerto Rico', 'Samoa', 'Sao Tome', 'Sao Tome,  Principe',\n",
       "       'Solomon Islands', 'South America', 'South America,  Africa',\n",
       "       'Sri Lanka', 'St. Lucia', 'Suriname', 'Tanzania', 'Tobago', 'Togo',\n",
       "       'Trinidad', 'Trinidad,  Ecuador', 'Trinidad,  Tobago', 'Uganda',\n",
       "       'Vanuatu', 'Ven,  Bolivia,  D.R.', 'Ven,  Trinidad,  Ecuador',\n",
       "       'Ven.,  Indonesia,  Ecuad.', 'Ven.,  Trinidad,  Mad.',\n",
       "       'Ven., Ecu., Peru, Nic.', 'Venez, Africa, Brasil, Peru, Mex',\n",
       "       'Venezuela', 'Venezuela,  Carribean', 'Venezuela,  Dom. Rep.',\n",
       "       'Venezuela,  Ghana', 'Venezuela,  Java', 'Venezuela,  Trinidad',\n",
       "       'Vietnam', 'West Africa', nan], dtype=object)"
      ]
     },
     "execution_count": 12,
     "metadata": {},
     "output_type": "execute_result"
    }
   ],
   "source": [
    "chocolate['Country'].sort_values().unique()"
   ]
  },
  {
   "cell_type": "code",
   "execution_count": 13,
   "metadata": {},
   "outputs": [],
   "source": [
    "## Text preparation (correction) func\n",
    "def txt_prep(text):\n",
    "    replacements = [\n",
    "        ['Dom Rep|DR|Domin Rep|Dominican Rep,|Domincan Republic', 'Dominican Republic'],\n",
    "        ['Mad,', 'Madagascar,'],\n",
    "        ['PNG', 'Papua New Guinea,'],\n",
    "        ['Guat,', 'Guatemala,'],\n",
    "        ['Ven,|Venez,', 'Venezuela,'],\n",
    "        ['Ecu,|Ecuad,', 'Ecuador,'],\n",
    "        ['Nic,', 'Nicaragua,'],\n",
    "        ['Cost Rica', 'Costa Rica'],\n",
    "        ['Mex,', 'Mexico,'],\n",
    "        ['Jam,', 'Jamaica,'],\n",
    "        ['Haw,', 'Hawaii,'],\n",
    "        ['Gre,', 'Grenada,'],\n",
    "        ['Tri,', 'Trinidad,'],\n",
    "        ['C Am', 'Central America'],\n",
    "        ['S America', 'South America'],\n",
    "    ]\n",
    "    \n",
    "    for i, j in replacements:\n",
    "        text = re.sub(i, j, str(text))\n",
    "\n",
    "    return text"
   ]
  },
  {
   "cell_type": "code",
   "execution_count": 14,
   "metadata": {},
   "outputs": [],
   "source": [
    "chocolate['Country'] = chocolate['Country'].str.replace('.', '').apply(txt_prep)"
   ]
  },
  {
   "cell_type": "code",
   "execution_count": 15,
   "metadata": {},
   "outputs": [],
   "source": [
    "chocolate['Country'].replace('', 'Unknown', inplace=True)"
   ]
  },
  {
   "cell_type": "code",
   "execution_count": 16,
   "metadata": {
    "scrolled": true
   },
   "outputs": [
    {
     "data": {
      "text/plain": [
       "array(['Africa,  Carribean,  Central America', 'Australia', 'Belize',\n",
       "       'Bolivia', 'Brazil', 'Burma', 'Cameroon', 'Carribean',\n",
       "       'Carribean,  Dominican Republic,  Jamaica,  Tri',\n",
       "       'Central,  South America', 'Colombia', 'Colombia,  Ecuador',\n",
       "       'Congo', 'Costa Rica', 'Costa Rica,  Ven', 'Cuba',\n",
       "       'Dominican Republic', 'Dominican Republic  Bali',\n",
       "       'Dominican Republic,  Ecuador,  Peru',\n",
       "       'Dominican Republic,  Madagascar', 'Ecuador',\n",
       "       'Ecuador,  Costa Rica', 'Ecuador,  Madagascar,  Papua New Guinea,',\n",
       "       'El Salvador', 'Fiji', 'Gabon', 'Ghana',\n",
       "       'Ghana,  Dominican Republic', 'Ghana,  Madagascar',\n",
       "       'Ghana,  Panama,  Ecuador', 'Grenada',\n",
       "       'Grenada,  Papua New Guinea,,  Hawaii,  Haiti,  Mad', 'Guatemala',\n",
       "       'Guatemala,  Dominican Republic,  Peru,  Madagascar,  Papua New Guinea,',\n",
       "       'Haiti', 'Hawaii', 'Honduras', 'India', 'Indonesia',\n",
       "       'Indonesia,  Ghana', 'Ivory Coast', 'Jamaica', 'Liberia',\n",
       "       'Madagascar', 'Madagascar,  Ecuador',\n",
       "       'Madagascar,  Java,  Papua New Guinea,', 'Malaysia', 'Martinique',\n",
       "       'Mexico', 'Nicaragua', 'Nigeria', 'Panama', 'Papua New Guinea',\n",
       "       'Papua New Guinea,,  Vanuatu,  Mad', 'Peru', 'Peru,  Belize',\n",
       "       'Peru,  Dominican Republic', 'Peru,  Ecuador',\n",
       "       'Peru,  Ecuador,  Venezuela', 'Peru,  Madagascar',\n",
       "       'Peru,  Madagascar,  Dominican Republic',\n",
       "       'Peru,  SMartin, Pangoa, nacional', 'Philippines', 'Principe',\n",
       "       'Puerto Rico', 'Samoa', 'Sao Tome', 'Sao Tome,  Principe',\n",
       "       'Solomon Islands', 'South America', 'South America,  Africa',\n",
       "       'Sri Lanka', 'St Lucia', 'Suriname', 'Tanzania', 'Tobago', 'Togo',\n",
       "       'Trinidad', 'Trinidad,  Ecuador', 'Trinidad,  Tobago', 'Uganda',\n",
       "       'Unknown', 'Vanuatu', 'Venezuela',\n",
       "       'Venezuela,  Bolivia,  Dominican Republic',\n",
       "       'Venezuela,  Carribean', 'Venezuela,  Dominican Republic',\n",
       "       'Venezuela,  Ghana', 'Venezuela,  Indonesia,  Ecuad',\n",
       "       'Venezuela,  Java', 'Venezuela,  Trinidad',\n",
       "       'Venezuela,  Trinidad,  Ecuador', 'Venezuela,  Trinidad,  Mad',\n",
       "       'Venezuela, Africa, Brasil, Peru, Mex',\n",
       "       'Venezuela, Ecuador, Peru, Nic', 'Vietnam', 'West Africa', 'nan'],\n",
       "      dtype=object)"
      ]
     },
     "execution_count": 16,
     "metadata": {},
     "output_type": "execute_result"
    }
   ],
   "source": [
    "chocolate['Country'].sort_values().unique()"
   ]
  },
  {
   "cell_type": "code",
   "execution_count": 17,
   "metadata": {},
   "outputs": [
    {
     "data": {
      "text/plain": [
       "array(['Amsterdam', 'Argentina', 'Australia', 'Austria', 'Belgium',\n",
       "       'Bolivia', 'Brazil', 'Canada', 'Chile', 'Colombia', 'Costa Rica',\n",
       "       'Czech Republic', 'Denmark', 'Domincan Republic', 'Ecuador',\n",
       "       'Eucador', 'Fiji', 'Finland', 'France', 'Germany', 'Ghana',\n",
       "       'Grenada', 'Guatemala', 'Honduras', 'Hungary', 'Iceland', 'India',\n",
       "       'Ireland', 'Israel', 'Italy', 'Japan', 'Lithuania', 'Madagascar',\n",
       "       'Martinique', 'Mexico', 'Netherlands', 'New Zealand', 'Niacragua',\n",
       "       'Nicaragua', 'Peru', 'Philippines', 'Poland', 'Portugal',\n",
       "       'Puerto Rico', 'Russia', 'Sao Tome', 'Scotland', 'Singapore',\n",
       "       'South Africa', 'South Korea', 'Spain', 'St. Lucia', 'Suriname',\n",
       "       'Sweden', 'Switzerland', 'U.K.', 'U.S.A.', 'Venezuela', 'Vietnam',\n",
       "       'Wales'], dtype=object)"
      ]
     },
     "execution_count": 17,
     "metadata": {},
     "output_type": "execute_result"
    }
   ],
   "source": [
    "# CompanyLocation column\n",
    "\n",
    "chocolate['CompanyLocation'].sort_values().unique()"
   ]
  },
  {
   "cell_type": "code",
   "execution_count": 18,
   "metadata": {},
   "outputs": [
    {
     "data": {
      "text/plain": [
       "array(['Argentina', 'Australia', 'Austria', 'Belgium', 'Bolivia',\n",
       "       'Brazil', 'Canada', 'Chile', 'Colombia', 'Costa Rica',\n",
       "       'Czech Republic', 'Denmark', 'Dominican Republic', 'Ecuador',\n",
       "       'Fiji', 'Finland', 'France', 'Germany', 'Ghana', 'Grenada',\n",
       "       'Guatemala', 'Holland', 'Honduras', 'Hungary', 'Iceland', 'India',\n",
       "       'Ireland', 'Israel', 'Italy', 'Japan', 'Lithuania', 'Madagascar',\n",
       "       'Martinique', 'Mexico', 'Netherlands', 'New Zealand', 'Nicaragua',\n",
       "       'Peru', 'Philippines', 'Poland', 'Portugal', 'Puerto Rico',\n",
       "       'Russia', 'Sao Tome', 'Singapore', 'South Africa', 'South Korea',\n",
       "       'Spain', 'St. Lucia', 'Suriname', 'Sweden', 'Switzerland', 'U.K.',\n",
       "       'U.S.A.', 'Venezuela', 'Vietnam'], dtype=object)"
      ]
     },
     "execution_count": 18,
     "metadata": {},
     "output_type": "execute_result"
    }
   ],
   "source": [
    "chocolate['CompanyLocation'] = chocolate['CompanyLocation']\\\n",
    ".str.replace('Amsterdam', 'Holland')\\\n",
    ".str.replace('Niacragua', 'Nicaragua')\\\n",
    ".str.replace('Domincan Republic', 'Dominican Republic')\\\n",
    ".str.replace('Eucador', 'Ecuador')\\\n",
    ".str.replace('Scotland', 'U.K.')\\\n",
    ".str.replace('Wales', 'U.K.')\n",
    "\n",
    "chocolate['CompanyLocation'].sort_values().unique()"
   ]
  },
  {
   "cell_type": "code",
   "execution_count": 19,
   "metadata": {
    "scrolled": true
   },
   "outputs": [
    {
     "data": {
      "text/plain": [
       "array(['Amazon', 'Amazon mix', 'Amazon, ICS', 'Beniano', 'Blend',\n",
       "       'Blend-Forastero,Criollo', 'CCN51', 'Criollo', 'Criollo (Amarru)',\n",
       "       'Criollo (Ocumare 61)', 'Criollo (Ocumare 67)',\n",
       "       'Criollo (Ocumare 77)', 'Criollo (Ocumare)', 'Criollo (Porcelana)',\n",
       "       'Criollo (Wild)', 'Criollo, +', 'Criollo, Forastero',\n",
       "       'Criollo, Trinitario', 'EET', 'Forastero', 'Forastero (Amelonado)',\n",
       "       'Forastero (Arriba)', 'Forastero (Arriba) ASS',\n",
       "       'Forastero (Arriba) ASSS', 'Forastero (Catongo)',\n",
       "       'Forastero (Nacional)', 'Forastero (Parazinho)',\n",
       "       'Forastero(Arriba, CCN)', 'Forastero, Trinitario', 'Matina',\n",
       "       'Nacional', 'Nacional (Arriba)', 'Trinitario',\n",
       "       'Trinitario (85% Criollo)', 'Trinitario (Amelonado)',\n",
       "       'Trinitario (Scavina)', 'Trinitario, Criollo',\n",
       "       'Trinitario, Forastero', 'Trinitario, Nacional',\n",
       "       'Trinitario, TCGA', '\\xa0', nan], dtype=object)"
      ]
     },
     "execution_count": 19,
     "metadata": {},
     "output_type": "execute_result"
    }
   ],
   "source": [
    "# BeanType column\n",
    "\n",
    "chocolate['BeanType'].sort_values().unique()"
   ]
  },
  {
   "cell_type": "code",
   "execution_count": 20,
   "metadata": {},
   "outputs": [],
   "source": [
    "chocolate['BeanType'] = chocolate['BeanType']\\\n",
    ".str.replace('-', ', ')\\\n",
    ".str.replace(',', ', ')\\\n",
    ".str.replace(',  \\+', '')\\\n",
    ".str.replace('Amazon mix', 'Amazon')\\\n",
    ".str.replace('\\xa0', 'Unknown')\\\n",
    ".str.split('(').str[0]\\\n",
    ".str.strip()"
   ]
  },
  {
   "cell_type": "code",
   "execution_count": 21,
   "metadata": {},
   "outputs": [
    {
     "data": {
      "text/plain": [
       "array(['Amazon', 'Amazon,  ICS', 'Beniano', 'Blend',\n",
       "       'Blend,  Forastero, Criollo', 'CCN51', 'Criollo',\n",
       "       'Criollo,  Forastero', 'Criollo,  Trinitario', 'EET', 'Forastero',\n",
       "       'Forastero,  Trinitario', 'Matina', 'Nacional', 'Trinitario',\n",
       "       'Trinitario,  Criollo', 'Trinitario,  Forastero',\n",
       "       'Trinitario,  Nacional', 'Trinitario,  TCGA', 'Unknown'],\n",
       "      dtype=object)"
      ]
     },
     "execution_count": 21,
     "metadata": {},
     "output_type": "execute_result"
    }
   ],
   "source": [
    "chocolate['BeanType'].replace(np.nan, 'Unknown', inplace=True)\n",
    "chocolate['BeanType'].sort_values().unique()"
   ]
  },
  {
   "cell_type": "code",
   "execution_count": 22,
   "metadata": {},
   "outputs": [
    {
     "data": {
      "text/plain": [
       "1039"
      ]
     },
     "execution_count": 22,
     "metadata": {},
     "output_type": "execute_result"
    }
   ],
   "source": [
    "# Origin column \n",
    "\n",
    "chocolate.Origin.nunique() #Too many unique values to clean up manually"
   ]
  },
  {
   "cell_type": "code",
   "execution_count": 23,
   "metadata": {},
   "outputs": [
    {
     "name": "stderr",
     "output_type": "stream",
     "text": [
      "/Users/marie/anaconda3/lib/python3.7/site-packages/pandas/core/strings.py:1843: UserWarning: This pattern has match groups. To actually get the groups, use str.extract.\n",
      "  return func(self, *args, **kwargs)\n"
     ]
    }
   ],
   "source": [
    "# Creating Blend column\n",
    "chocolate['Blend'] = np.where(np.logical_or(\n",
    "    np.logical_or(chocolate['Origin'].str.lower().str.contains(',|(blend)|;'),\n",
    "                  chocolate['BeanType'].str.lower().str.contains(',|(blend)|;')),\n",
    "    chocolate['BeanType'].str.lower().str.contains(','))\n",
    "                              , 1\n",
    "                              , 0\n",
    ")"
   ]
  },
  {
   "cell_type": "code",
   "execution_count": 24,
   "metadata": {
    "scrolled": false
   },
   "outputs": [
    {
     "data": {
      "text/plain": [
       "0    1134\n",
       "1     661\n",
       "Name: Blend, dtype: int64"
      ]
     },
     "execution_count": 24,
     "metadata": {},
     "output_type": "execute_result"
    }
   ],
   "source": [
    "chocolate['Blend'].value_counts()"
   ]
  },
  {
   "cell_type": "code",
   "execution_count": 25,
   "metadata": {},
   "outputs": [],
   "source": [
    "## Creating Domestic column\n",
    "chocolate['Domestic'] = np.where(chocolate['Country'] == chocolate['CompanyLocation'], 1, 0)"
   ]
  },
  {
   "cell_type": "code",
   "execution_count": 26,
   "metadata": {
    "scrolled": false
   },
   "outputs": [
    {
     "data": {
      "text/plain": [
       "0    1589\n",
       "1     206\n",
       "Name: Domestic, dtype: int64"
      ]
     },
     "execution_count": 26,
     "metadata": {},
     "output_type": "execute_result"
    }
   ],
   "source": [
    "chocolate['Domestic'].value_counts()"
   ]
  },
  {
   "cell_type": "code",
   "execution_count": 27,
   "metadata": {
    "scrolled": true
   },
   "outputs": [
    {
     "data": {
      "text/html": [
       "<div>\n",
       "<style scoped>\n",
       "    .dataframe tbody tr th:only-of-type {\n",
       "        vertical-align: middle;\n",
       "    }\n",
       "\n",
       "    .dataframe tbody tr th {\n",
       "        vertical-align: top;\n",
       "    }\n",
       "\n",
       "    .dataframe thead th {\n",
       "        text-align: right;\n",
       "    }\n",
       "</style>\n",
       "<table border=\"1\" class=\"dataframe\">\n",
       "  <thead>\n",
       "    <tr style=\"text-align: right;\">\n",
       "      <th></th>\n",
       "      <th>Company</th>\n",
       "      <th>Origin</th>\n",
       "      <th>REF</th>\n",
       "      <th>ReviewDate</th>\n",
       "      <th>CocoaPercent</th>\n",
       "      <th>CompanyLocation</th>\n",
       "      <th>Rating</th>\n",
       "      <th>BeanType</th>\n",
       "      <th>Country</th>\n",
       "      <th>Blend</th>\n",
       "      <th>Domestic</th>\n",
       "    </tr>\n",
       "  </thead>\n",
       "  <tbody>\n",
       "    <tr>\n",
       "      <td>0</td>\n",
       "      <td>A. Morin</td>\n",
       "      <td>Agua Grande</td>\n",
       "      <td>1876</td>\n",
       "      <td>2016</td>\n",
       "      <td>63.0</td>\n",
       "      <td>France</td>\n",
       "      <td>3.75</td>\n",
       "      <td>Unknown</td>\n",
       "      <td>Sao Tome</td>\n",
       "      <td>0</td>\n",
       "      <td>0</td>\n",
       "    </tr>\n",
       "    <tr>\n",
       "      <td>1</td>\n",
       "      <td>A. Morin</td>\n",
       "      <td>Kpime</td>\n",
       "      <td>1676</td>\n",
       "      <td>2015</td>\n",
       "      <td>70.0</td>\n",
       "      <td>France</td>\n",
       "      <td>2.75</td>\n",
       "      <td>Unknown</td>\n",
       "      <td>Togo</td>\n",
       "      <td>0</td>\n",
       "      <td>0</td>\n",
       "    </tr>\n",
       "    <tr>\n",
       "      <td>2</td>\n",
       "      <td>A. Morin</td>\n",
       "      <td>Atsane</td>\n",
       "      <td>1676</td>\n",
       "      <td>2015</td>\n",
       "      <td>70.0</td>\n",
       "      <td>France</td>\n",
       "      <td>3.00</td>\n",
       "      <td>Unknown</td>\n",
       "      <td>Togo</td>\n",
       "      <td>0</td>\n",
       "      <td>0</td>\n",
       "    </tr>\n",
       "    <tr>\n",
       "      <td>3</td>\n",
       "      <td>A. Morin</td>\n",
       "      <td>Akata</td>\n",
       "      <td>1680</td>\n",
       "      <td>2015</td>\n",
       "      <td>70.0</td>\n",
       "      <td>France</td>\n",
       "      <td>3.50</td>\n",
       "      <td>Unknown</td>\n",
       "      <td>Togo</td>\n",
       "      <td>0</td>\n",
       "      <td>0</td>\n",
       "    </tr>\n",
       "    <tr>\n",
       "      <td>4</td>\n",
       "      <td>A. Morin</td>\n",
       "      <td>Quilla</td>\n",
       "      <td>1704</td>\n",
       "      <td>2015</td>\n",
       "      <td>70.0</td>\n",
       "      <td>France</td>\n",
       "      <td>3.50</td>\n",
       "      <td>Unknown</td>\n",
       "      <td>Peru</td>\n",
       "      <td>0</td>\n",
       "      <td>0</td>\n",
       "    </tr>\n",
       "  </tbody>\n",
       "</table>\n",
       "</div>"
      ],
      "text/plain": [
       "    Company       Origin   REF  ReviewDate  CocoaPercent CompanyLocation  \\\n",
       "0  A. Morin  Agua Grande  1876        2016          63.0          France   \n",
       "1  A. Morin        Kpime  1676        2015          70.0          France   \n",
       "2  A. Morin       Atsane  1676        2015          70.0          France   \n",
       "3  A. Morin        Akata  1680        2015          70.0          France   \n",
       "4  A. Morin       Quilla  1704        2015          70.0          France   \n",
       "\n",
       "   Rating BeanType   Country  Blend  Domestic  \n",
       "0    3.75  Unknown  Sao Tome      0         0  \n",
       "1    2.75  Unknown      Togo      0         0  \n",
       "2    3.00  Unknown      Togo      0         0  \n",
       "3    3.50  Unknown      Togo      0         0  \n",
       "4    3.50  Unknown      Peru      0         0  "
      ]
     },
     "execution_count": 27,
     "metadata": {},
     "output_type": "execute_result"
    }
   ],
   "source": [
    "chocolate.head()"
   ]
  },
  {
   "cell_type": "code",
   "execution_count": 28,
   "metadata": {},
   "outputs": [],
   "source": [
    "# Saving clean dataset\n",
    "chocolate.to_csv('./data/cleaned_chocolate.csv')"
   ]
  }
 ],
 "metadata": {
  "kernelspec": {
   "display_name": "Python 3",
   "language": "python",
   "name": "python3"
  },
  "language_info": {
   "codemirror_mode": {
    "name": "ipython",
    "version": 3
   },
   "file_extension": ".py",
   "mimetype": "text/x-python",
   "name": "python",
   "nbconvert_exporter": "python",
   "pygments_lexer": "ipython3",
   "version": "3.7.4"
  }
 },
 "nbformat": 4,
 "nbformat_minor": 2
}
